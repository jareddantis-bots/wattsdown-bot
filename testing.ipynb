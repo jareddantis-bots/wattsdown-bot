{
 "cells": [
  {
   "cell_type": "code",
   "execution_count": 13,
   "metadata": {},
   "outputs": [],
   "source": [
    "import pandas as pd"
   ]
  },
  {
   "cell_type": "markdown",
   "metadata": {},
   "source": [
    "This document is a summary of the tests run to evaulate WattsDown.\n",
    "\n",
    "The cell below shows how we randomly generate 50 municipalities manually labeled from information taken <a href=\"https://company.meralco.com.ph/news-and-advisories/maintenance-schedule\"> here </a>."
   ]
  },
  {
   "cell_type": "code",
   "execution_count": 14,
   "metadata": {},
   "outputs": [
    {
     "name": "stdout",
     "output_type": "stream",
     "text": [
      "      Municipality  Outage                                       Announcement\n",
      "22        Calumpit   False                                                NaN\n",
      "48      Dasmariñas   False                                                NaN\n",
      "53          Indang   False                                                NaN\n",
      "46         Carmona   False                                                NaN\n",
      "70         Calamba   False                                                NaN\n",
      "18        Balagtas   False                                                NaN\n",
      "108         Taytay   False                                                NaN\n",
      "11           Pasig   False                                                NaN\n",
      "106      San Mateo   False                                                NaN\n",
      "64         Ternate   False                                                NaN\n",
      "62        Tagaytay   False                                                NaN\n",
      "36      San Miguel   False                                                NaN\n",
      "90        Pagbilao   False                                                NaN\n",
      "15          Taguig   False                                                NaN\n",
      "31        Paombong   False                                                NaN\n",
      "91        Sampaloc   False                                                NaN\n",
      "10           Pasay   False                                                NaN\n",
      "94         Tayabas   False                                                NaN\n",
      "63           Tanza   False                                                NaN\n",
      "107          Tanay   False                                                NaN\n",
      "93         Sariaya    True   https://company.meralco.com.ph/news-and-advis...\n",
      "75       Magdalena   False                                                NaN\n",
      "89          Mauban   False                                                NaN\n",
      "105      Rodriguez   False                                                NaN\n",
      "55      Magallanes   False                                                NaN\n",
      "82      Santa Cruz   False                                                NaN\n",
      "85      Candelaria   False                                                NaN\n",
      "79           Rizal   False                                                NaN\n",
      "14        San Juan   False                                                NaN\n",
      "100         Cainta   False                                                NaN\n",
      "60         Rosario   False                                                NaN\n",
      "25         Malolos   False                                                NaN\n",
      "72           Liliw   False                                                NaN\n",
      "32        Plaridel   False                                                NaN\n",
      "29          Obando   False                                                NaN\n",
      "1        Las Piñas   False                                                NaN\n",
      "19          Bocaue   False                                                NaN\n",
      "80       San Pablo   False                                                NaN\n",
      "81       San Pedro   False                                                NaN\n",
      "9        Parañaque   False                                                NaN\n",
      "74        Luisiana   False                                                NaN\n",
      "52            Imus    True   https://company.meralco.com.ph/news-and-advis...\n",
      "40        Batangas   False                                                NaN\n",
      "59        Noveleta   False                                                NaN\n",
      "37      San Rafael   False                                                NaN\n",
      "95          Tiaong   False                                                NaN\n",
      "92     San Antonio   False                                                NaN\n",
      "69         Cabuyao   False                                                NaN\n",
      "51   General Trias    True   https://company.meralco.com.ph/news-and-advis...\n",
      "8          Navotas   False                                                NaN\n"
     ]
    }
   ],
   "source": [
    "file = pd.read_csv(r'meralco_municipality.csv')\n",
    "\n",
    "sample = file.sample(n=50)\n",
    "print(sample)"
   ]
  },
  {
   "cell_type": "markdown",
   "metadata": {},
   "source": [
    "Loading in results from `!list` command executed."
   ]
  }
 ],
 "metadata": {
  "interpreter": {
   "hash": "a6c85bb2e112c8b2cbf670e3a5204b28e46ec4fa6f23fbbf825a1ead6e2a78bb"
  },
  "kernelspec": {
   "display_name": "Python 3.10.2 64-bit (system)",
   "language": "python",
   "name": "python3"
  },
  "language_info": {
   "codemirror_mode": {
    "name": "ipython",
    "version": 3
   },
   "file_extension": ".py",
   "mimetype": "text/x-python",
   "name": "python",
   "nbconvert_exporter": "python",
   "pygments_lexer": "ipython3",
   "version": "3.10.2"
  },
  "orig_nbformat": 4
 },
 "nbformat": 4,
 "nbformat_minor": 2
}
